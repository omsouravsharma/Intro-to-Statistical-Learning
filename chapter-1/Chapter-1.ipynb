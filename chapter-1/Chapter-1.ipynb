{
 "cells": [
  {
   "cell_type": "markdown",
   "id": "1f0a2b8b",
   "metadata": {},
   "source": [
    "## Python Basic Commands"
   ]
  },
  {
   "cell_type": "code",
   "execution_count": 3,
   "id": "aaf32845",
   "metadata": {},
   "outputs": [
    {
     "name": "stdout",
     "output_type": "stream",
     "text": [
      "Fit a model\n"
     ]
    }
   ],
   "source": [
    "# print\n",
    "print(\"Fit a model\")"
   ]
  },
  {
   "cell_type": "code",
   "execution_count": 4,
   "id": "1a198919",
   "metadata": {},
   "outputs": [],
   "source": [
    "print?"
   ]
  },
  {
   "cell_type": "code",
   "execution_count": 5,
   "id": "2d5ba5a2",
   "metadata": {},
   "outputs": [
    {
     "data": {
      "text/plain": [
       "8"
      ]
     },
     "execution_count": 5,
     "metadata": {},
     "output_type": "execute_result"
    }
   ],
   "source": [
    "3+5 #addition"
   ]
  },
  {
   "cell_type": "code",
   "execution_count": 6,
   "id": "4b152809",
   "metadata": {},
   "outputs": [
    {
     "data": {
      "text/plain": [
       "'Hello world'"
      ]
     },
     "execution_count": 6,
     "metadata": {},
     "output_type": "execute_result"
    }
   ],
   "source": [
    "# concatenation\n",
    "\n",
    "\"Hello\" + \" \"+\"world\""
   ]
  },
  {
   "cell_type": "code",
   "execution_count": 7,
   "id": "c97a809a",
   "metadata": {},
   "outputs": [
    {
     "data": {
      "text/plain": [
       "[3, 5, 2]"
      ]
     },
     "execution_count": 7,
     "metadata": {},
     "output_type": "execute_result"
    }
   ],
   "source": [
    "# Sequence which is list\n",
    "x = [3,5,2]\n",
    "x"
   ]
  },
  {
   "cell_type": "code",
   "execution_count": 8,
   "id": "eddb9edd",
   "metadata": {},
   "outputs": [
    {
     "data": {
      "text/plain": [
       "[5, 3, 2]"
      ]
     },
     "execution_count": 8,
     "metadata": {},
     "output_type": "execute_result"
    }
   ],
   "source": [
    "y = [5,3,2]\n",
    "y"
   ]
  },
  {
   "cell_type": "code",
   "execution_count": 9,
   "id": "bc0e217f",
   "metadata": {},
   "outputs": [
    {
     "data": {
      "text/plain": [
       "[3, 5, 2, 5, 3, 2]"
      ]
     },
     "execution_count": 9,
     "metadata": {},
     "output_type": "execute_result"
    }
   ],
   "source": [
    "x + y"
   ]
  },
  {
   "cell_type": "code",
   "execution_count": 10,
   "id": "a8d4305f",
   "metadata": {},
   "outputs": [],
   "source": [
    "import numpy as np"
   ]
  },
  {
   "cell_type": "code",
   "execution_count": 11,
   "id": "6b7204e9",
   "metadata": {},
   "outputs": [
    {
     "data": {
      "text/plain": [
       "array([3, 5, 2])"
      ]
     },
     "execution_count": 11,
     "metadata": {},
     "output_type": "execute_result"
    }
   ],
   "source": [
    "x = np.array([3,5,2])\n",
    "x"
   ]
  },
  {
   "cell_type": "code",
   "execution_count": 12,
   "id": "d2a99d6c",
   "metadata": {},
   "outputs": [
    {
     "data": {
      "text/plain": [
       "array([3, 5, 7])"
      ]
     },
     "execution_count": 12,
     "metadata": {},
     "output_type": "execute_result"
    }
   ],
   "source": [
    "y = np.array([3,5,7])\n",
    "y"
   ]
  },
  {
   "cell_type": "code",
   "execution_count": 13,
   "id": "751dd9e2",
   "metadata": {},
   "outputs": [
    {
     "data": {
      "text/plain": [
       "array([ 6, 10,  9])"
      ]
     },
     "execution_count": 13,
     "metadata": {},
     "output_type": "execute_result"
    }
   ],
   "source": [
    "x + y"
   ]
  },
  {
   "cell_type": "code",
   "execution_count": 14,
   "id": "fd722abb",
   "metadata": {},
   "outputs": [
    {
     "data": {
      "text/plain": [
       "array([[2, 1],\n",
       "       [3, 5]])"
      ]
     },
     "execution_count": 14,
     "metadata": {},
     "output_type": "execute_result"
    }
   ],
   "source": [
    "# 2 -dimensional array\n",
    "\n",
    "x = np.array([[2,1],[3,5]])\n",
    "x"
   ]
  },
  {
   "cell_type": "code",
   "execution_count": 15,
   "id": "c5e9c90e",
   "metadata": {},
   "outputs": [
    {
     "data": {
      "text/plain": [
       "2"
      ]
     },
     "execution_count": 15,
     "metadata": {},
     "output_type": "execute_result"
    }
   ],
   "source": [
    "x.ndim #check dimensional of array"
   ]
  },
  {
   "cell_type": "code",
   "execution_count": 16,
   "id": "63cabb04",
   "metadata": {},
   "outputs": [
    {
     "data": {
      "text/plain": [
       "dtype('int32')"
      ]
     },
     "execution_count": 16,
     "metadata": {},
     "output_type": "execute_result"
    }
   ],
   "source": [
    "x.dtype"
   ]
  },
  {
   "cell_type": "code",
   "execution_count": 17,
   "id": "f0b48995",
   "metadata": {},
   "outputs": [
    {
     "data": {
      "text/plain": [
       "array([[2., 3.],\n",
       "       [4., 6.]])"
      ]
     },
     "execution_count": 17,
     "metadata": {},
     "output_type": "execute_result"
    }
   ],
   "source": [
    "np.array([[2.,3],[4,6]])"
   ]
  },
  {
   "cell_type": "code",
   "execution_count": 18,
   "id": "36321101",
   "metadata": {},
   "outputs": [
    {
     "data": {
      "text/plain": [
       "dtype('float64')"
      ]
     },
     "execution_count": 18,
     "metadata": {},
     "output_type": "execute_result"
    }
   ],
   "source": [
    "np.array([[2.,3],[4,6]]).dtype"
   ]
  },
  {
   "cell_type": "code",
   "execution_count": 19,
   "id": "f1b60876",
   "metadata": {},
   "outputs": [
    {
     "data": {
      "text/plain": [
       "(2, 2)"
      ]
     },
     "execution_count": 19,
     "metadata": {},
     "output_type": "execute_result"
    }
   ],
   "source": [
    "x.shape"
   ]
  },
  {
   "cell_type": "code",
   "execution_count": 20,
   "id": "68ee7387",
   "metadata": {},
   "outputs": [
    {
     "data": {
      "text/plain": [
       "12"
      ]
     },
     "execution_count": 20,
     "metadata": {},
     "output_type": "execute_result"
    }
   ],
   "source": [
    "# methods\n",
    "\n",
    "x = np.array([1,2,4,5])\n",
    "x.sum()"
   ]
  },
  {
   "cell_type": "code",
   "execution_count": 21,
   "id": "17ab5f80",
   "metadata": {},
   "outputs": [
    {
     "data": {
      "text/plain": [
       "12"
      ]
     },
     "execution_count": 21,
     "metadata": {},
     "output_type": "execute_result"
    }
   ],
   "source": [
    "np.sum(x)"
   ]
  },
  {
   "cell_type": "code",
   "execution_count": 22,
   "id": "d4fe3b87",
   "metadata": {},
   "outputs": [
    {
     "data": {
      "text/plain": [
       "array([[2., 3.],\n",
       "       [4., 6.],\n",
       "       [3., 7.]])"
      ]
     },
     "execution_count": 22,
     "metadata": {},
     "output_type": "execute_result"
    }
   ],
   "source": [
    "# reshape\n",
    "\n",
    "x = np.array([[2.,3],[4,6],[3,7]])\n",
    "x"
   ]
  },
  {
   "cell_type": "code",
   "execution_count": 23,
   "id": "47ed809c",
   "metadata": {},
   "outputs": [
    {
     "data": {
      "text/plain": [
       "array([[2., 3.],\n",
       "       [4., 6.],\n",
       "       [3., 7.]])"
      ]
     },
     "execution_count": 23,
     "metadata": {},
     "output_type": "execute_result"
    }
   ],
   "source": [
    "x.reshape((3,2))"
   ]
  },
  {
   "cell_type": "code",
   "execution_count": 24,
   "id": "7f0c8c78",
   "metadata": {},
   "outputs": [
    {
     "name": "stdout",
     "output_type": "stream",
     "text": [
      "Before reshape: \n",
      " [0 1 2 3 4 5]\n",
      "After reshape: \n",
      " [[0 1 2]\n",
      " [3 4 5]]\n"
     ]
    }
   ],
   "source": [
    "x = np.arange(6)\n",
    "print(\"Before reshape: \\n\",x)\n",
    "print(\"After reshape: \\n\", x.reshape(2,3))"
   ]
  },
  {
   "cell_type": "code",
   "execution_count": 25,
   "id": "25427b10",
   "metadata": {},
   "outputs": [
    {
     "data": {
      "text/plain": [
       "<function ndarray.reshape>"
      ]
     },
     "execution_count": 25,
     "metadata": {},
     "output_type": "execute_result"
    }
   ],
   "source": [
    "x.reshape"
   ]
  },
  {
   "cell_type": "code",
   "execution_count": 26,
   "id": "b677fd27",
   "metadata": {},
   "outputs": [
    {
     "data": {
      "text/plain": [
       "(3, 4, 5)"
      ]
     },
     "execution_count": 26,
     "metadata": {},
     "output_type": "execute_result"
    }
   ],
   "source": [
    "# tuple\n",
    "my_tuple = (3,4,5)\n",
    "my_tuple"
   ]
  },
  {
   "cell_type": "code",
   "execution_count": 27,
   "id": "07c5caa3",
   "metadata": {},
   "outputs": [
    {
     "ename": "TypeError",
     "evalue": "'tuple' object does not support item assignment",
     "output_type": "error",
     "traceback": [
      "\u001b[1;31m---------------------------------------------------------------------------\u001b[0m",
      "\u001b[1;31mTypeError\u001b[0m                                 Traceback (most recent call last)",
      "Cell \u001b[1;32mIn[27], line 2\u001b[0m\n\u001b[0;32m      1\u001b[0m \u001b[38;5;66;03m#can we modify tuple?\u001b[39;00m\n\u001b[1;32m----> 2\u001b[0m \u001b[43mmy_tuple\u001b[49m\u001b[43m[\u001b[49m\u001b[38;5;241;43m2\u001b[39;49m\u001b[43m]\u001b[49m \u001b[38;5;241m=\u001b[39m \u001b[38;5;241m3\u001b[39m\n",
      "\u001b[1;31mTypeError\u001b[0m: 'tuple' object does not support item assignment"
     ]
    }
   ],
   "source": [
    "#can we modify tuple?\n",
    "my_tuple[2] = 3"
   ]
  },
  {
   "cell_type": "code",
   "execution_count": null,
   "id": "e5c661a9",
   "metadata": {},
   "outputs": [],
   "source": [
    "x_reshape = x.reshape((3,2))\n",
    "x_reshape"
   ]
  },
  {
   "cell_type": "code",
   "execution_count": null,
   "id": "fbe4d96e",
   "metadata": {},
   "outputs": [],
   "source": [
    "x_reshape.T # Transpose"
   ]
  },
  {
   "cell_type": "code",
   "execution_count": null,
   "id": "b65d0bec",
   "metadata": {},
   "outputs": [],
   "source": [
    "np.sqrt(x)"
   ]
  },
  {
   "cell_type": "code",
   "execution_count": null,
   "id": "a5885030",
   "metadata": {},
   "outputs": [],
   "source": [
    "x**2"
   ]
  },
  {
   "cell_type": "code",
   "execution_count": null,
   "id": "7670957d",
   "metadata": {},
   "outputs": [],
   "source": [
    "x **0.5"
   ]
  },
  {
   "cell_type": "code",
   "execution_count": null,
   "id": "8b2e117c",
   "metadata": {},
   "outputs": [],
   "source": [
    "# Generate random normal variable N(0,1)\n",
    "\n",
    "x = np.random.normal(size = 50)\n",
    "x"
   ]
  },
  {
   "cell_type": "code",
   "execution_count": null,
   "id": "79604b24",
   "metadata": {},
   "outputs": [],
   "source": [
    "y = x + np.random.normal(loc = 50, scale = 1, size = 50)\n",
    "y"
   ]
  },
  {
   "cell_type": "code",
   "execution_count": null,
   "id": "0844e4e8",
   "metadata": {},
   "outputs": [],
   "source": [
    "# Calculate the coeff between x and y \n",
    "\n",
    "np.corrcoef(x,y)"
   ]
  },
  {
   "cell_type": "code",
   "execution_count": null,
   "id": "4e7c01b8",
   "metadata": {},
   "outputs": [],
   "source": [
    "# To get same result we can set random.seed using np.random.default_rng()\n",
    "rng = np.random.default_rng(1303)\n",
    "print(rng.normal(scale = 5, size = 2))\n",
    "rng2 = np.random.default_rng(1303)\n",
    "print(rng2.normal(scale = 5, size = 2))\n"
   ]
  },
  {
   "cell_type": "code",
   "execution_count": null,
   "id": "f78c12e6",
   "metadata": {},
   "outputs": [],
   "source": [
    "# mean\n",
    "rng = np.random.default_rng(3)\n",
    "y = rng.standard_normal(10)\n",
    "np.mean(y), y.mean()"
   ]
  },
  {
   "cell_type": "code",
   "execution_count": null,
   "id": "45c14801",
   "metadata": {},
   "outputs": [],
   "source": [
    "# variance\n",
    "np.var(y), y.var(), np.mean((y - y.mean())**2)"
   ]
  },
  {
   "cell_type": "code",
   "execution_count": null,
   "id": "18b72529",
   "metadata": {},
   "outputs": [],
   "source": [
    "# Standard Deviation\n",
    "\n",
    "np.std(y), np.sqrt(np.var(y))"
   ]
  },
  {
   "cell_type": "code",
   "execution_count": null,
   "id": "29f7621b",
   "metadata": {},
   "outputs": [],
   "source": [
    "# matrix \n",
    "\n",
    "x = np.random.standard_normal((10,3))\n",
    "x"
   ]
  },
  {
   "cell_type": "code",
   "execution_count": null,
   "id": "dcf0895a",
   "metadata": {},
   "outputs": [],
   "source": [
    "x.mean()"
   ]
  },
  {
   "cell_type": "code",
   "execution_count": null,
   "id": "d2e8c9a6",
   "metadata": {},
   "outputs": [],
   "source": [
    "x.mean(axis=0)"
   ]
  },
  {
   "cell_type": "code",
   "execution_count": null,
   "id": "e9929253",
   "metadata": {},
   "outputs": [],
   "source": [
    "##GRAPHICS"
   ]
  },
  {
   "cell_type": "code",
   "execution_count": null,
   "id": "92a8a5d9",
   "metadata": {},
   "outputs": [],
   "source": [
    "import matplotlib.pyplot as plt\n",
    "fig, ax = plt.subplots(figsize= (8,8))\n",
    "x = rng.standard_normal(10)\n",
    "y = rng.standard_normal(10)\n",
    "plt.plot(x,y)"
   ]
  },
  {
   "cell_type": "code",
   "execution_count": null,
   "id": "ff015fbe",
   "metadata": {},
   "outputs": [],
   "source": [
    "output = plt.subplots(figsize = (8,8))\n",
    "fig = output[0]\n",
    "ax = output[1]"
   ]
  },
  {
   "cell_type": "code",
   "execution_count": null,
   "id": "8f7efd25",
   "metadata": {},
   "outputs": [],
   "source": [
    "fig, ax = plt.subplots(figsize= (8,8))\n",
    "plt.plot(x,y, 'o') # scatterplot"
   ]
  },
  {
   "cell_type": "code",
   "execution_count": null,
   "id": "c962fe61",
   "metadata": {},
   "outputs": [],
   "source": [
    "fig, ax = plt.subplots(figsize= (8,8))\n",
    "ax.scatter(x,y,marker = 'o');"
   ]
  },
  {
   "cell_type": "code",
   "execution_count": null,
   "id": "939f626c",
   "metadata": {},
   "outputs": [],
   "source": [
    "fig, ax = plt.subplots(figsize= (8,8))\n",
    "ax.scatter(x,y,marker = 'o')\n",
    "ax.set_title(\"This is x vs y plot\")\n",
    "ax.set_xlabel(\"This is x label\")\n",
    "ax.set_ylabel(\"This is y label\");"
   ]
  },
  {
   "cell_type": "code",
   "execution_count": null,
   "id": "ea7a0aaf",
   "metadata": {},
   "outputs": [],
   "source": [
    "fig, ax = plt.subplots(figsize= (12,3)) # Change in size\n",
    "ax.scatter(x,y,marker = 'o')\n",
    "ax.set_title(\"This is x vs y plot\")\n",
    "ax.set_xlabel(\"This is x label\")\n",
    "ax.set_ylabel(\"This is y label\");"
   ]
  },
  {
   "cell_type": "code",
   "execution_count": null,
   "id": "443ea75c",
   "metadata": {},
   "outputs": [],
   "source": [
    "# multi-subplot \n",
    "\n",
    "fig, ax = plt.subplots(nrows=2, ncols=3, figsize = (12,3))\n"
   ]
  },
  {
   "cell_type": "code",
   "execution_count": null,
   "id": "fa40206e",
   "metadata": {},
   "outputs": [],
   "source": [
    "fig, ax = plt.subplots(nrows=2, ncols=3, figsize = (12,3))\n",
    "ax[0,1].plot(x,y, 'o')\n",
    "ax[1,2].plot(x,y)"
   ]
  },
  {
   "cell_type": "code",
   "execution_count": null,
   "id": "9f7c1421",
   "metadata": {},
   "outputs": [],
   "source": [
    "# limit x axes \n",
    "\n",
    "ax[0,1].set_xlim([-1,1])\n",
    "fig"
   ]
  },
  {
   "cell_type": "code",
   "execution_count": null,
   "id": "7044174f",
   "metadata": {},
   "outputs": [],
   "source": [
    "# 3d plot\n",
    "fig, ax = plt.subplots(figsize= (8,8))\n",
    "x = np.linspace(-np.pi, np.pi, 50)\n",
    "y = x\n",
    "f = np.multiply.outer(np.cos(y), 1 /(1+x**2))\n",
    "ax.contour(x,y,f);"
   ]
  },
  {
   "cell_type": "code",
   "execution_count": null,
   "id": "52747171",
   "metadata": {},
   "outputs": [],
   "source": [
    "fig, ax = plt.subplots(figsize= (8,8))\n",
    "x = np.linspace(-np.pi, np.pi, 50)\n",
    "y = x\n",
    "f = np.multiply.outer(np.cos(y), 1 /(1+x**2))\n",
    "ax.contour(x,y,f, levels = 45);"
   ]
  },
  {
   "cell_type": "code",
   "execution_count": null,
   "id": "69206e6e",
   "metadata": {},
   "outputs": [],
   "source": [
    "fig, ax = plt.subplots(figsize= (8,8))\n",
    "ax.imshow(f)"
   ]
  },
  {
   "cell_type": "code",
   "execution_count": null,
   "id": "6805fda7",
   "metadata": {},
   "outputs": [],
   "source": [
    "# Create sequence \n",
    "x = np.arange(10)\n",
    "x"
   ]
  },
  {
   "cell_type": "code",
   "execution_count": null,
   "id": "664f4e85",
   "metadata": {},
   "outputs": [],
   "source": [
    "# slice \n",
    "\"Hello World\"[3:6]"
   ]
  },
  {
   "cell_type": "code",
   "execution_count": null,
   "id": "447b6890",
   "metadata": {},
   "outputs": [],
   "source": [
    "# Indexing Data \n",
    "\n",
    "x = np.arange(16).reshape((4,4))\n",
    "x"
   ]
  },
  {
   "cell_type": "code",
   "execution_count": null,
   "id": "c99152db",
   "metadata": {},
   "outputs": [],
   "source": [
    "x[1,2] # Indexing start with 0 "
   ]
  },
  {
   "cell_type": "code",
   "execution_count": null,
   "id": "37110737",
   "metadata": {},
   "outputs": [],
   "source": [
    "x[[1,3]] # fetch full row"
   ]
  },
  {
   "cell_type": "code",
   "execution_count": null,
   "id": "92088992",
   "metadata": {},
   "outputs": [],
   "source": [
    "x[:,[0,2]]"
   ]
  },
  {
   "cell_type": "code",
   "execution_count": null,
   "id": "f4c6d438",
   "metadata": {},
   "outputs": [],
   "source": [
    "x[[1,3],[0,2]]"
   ]
  },
  {
   "cell_type": "code",
   "execution_count": null,
   "id": "15fe487c",
   "metadata": {},
   "outputs": [],
   "source": [
    "x[[1,3],[0,2,3]]"
   ]
  },
  {
   "cell_type": "code",
   "execution_count": null,
   "id": "f5601bb7",
   "metadata": {},
   "outputs": [],
   "source": [
    "x[[1,3]][:,[0,2]]"
   ]
  },
  {
   "cell_type": "code",
   "execution_count": null,
   "id": "26c741d4",
   "metadata": {},
   "outputs": [],
   "source": [
    "# Convenience function allow to extract matrix using mesh object. \n",
    "idx = np.ix_([1,3],[0,2,3])\n",
    "x[idx]"
   ]
  },
  {
   "cell_type": "code",
   "execution_count": 30,
   "id": "4248ee9b",
   "metadata": {},
   "outputs": [
    {
     "data": {
      "text/plain": [
       "array([0, 1, 2, 3, 4, 5])"
      ]
     },
     "execution_count": 30,
     "metadata": {},
     "output_type": "execute_result"
    }
   ],
   "source": [
    "x"
   ]
  },
  {
   "cell_type": "code",
   "execution_count": null,
   "id": "0c120a8b",
   "metadata": {},
   "outputs": [],
   "source": [
    "x[1:4:2,0:3:2]"
   ]
  },
  {
   "cell_type": "code",
   "execution_count": 29,
   "id": "e96f6c1c",
   "metadata": {},
   "outputs": [
    {
     "data": {
      "text/plain": [
       "array([False, False, False, False, False, False])"
      ]
     },
     "execution_count": 29,
     "metadata": {},
     "output_type": "execute_result"
    }
   ],
   "source": [
    "# Boolean Indexing\n",
    "import numpy as np\n",
    "keep_rows = np.zeros(x.shape[0], bool)\n",
    "keep_rows"
   ]
  },
  {
   "cell_type": "code",
   "execution_count": 33,
   "id": "43e9278a",
   "metadata": {},
   "outputs": [
    {
     "data": {
      "text/plain": [
       "array([False,  True, False,  True, False, False])"
      ]
     },
     "execution_count": 33,
     "metadata": {},
     "output_type": "execute_result"
    }
   ],
   "source": [
    "keep_rows[[1,3]] = True\n",
    "keep_rows"
   ]
  },
  {
   "cell_type": "code",
   "execution_count": null,
   "id": "167af22e",
   "metadata": {},
   "outputs": [],
   "source": []
  }
 ],
 "metadata": {
  "kernelspec": {
   "display_name": "Python 3 (ipykernel)",
   "language": "python",
   "name": "python3"
  },
  "language_info": {
   "codemirror_mode": {
    "name": "ipython",
    "version": 3
   },
   "file_extension": ".py",
   "mimetype": "text/x-python",
   "name": "python",
   "nbconvert_exporter": "python",
   "pygments_lexer": "ipython3",
   "version": "3.10.10"
  }
 },
 "nbformat": 4,
 "nbformat_minor": 5
}
